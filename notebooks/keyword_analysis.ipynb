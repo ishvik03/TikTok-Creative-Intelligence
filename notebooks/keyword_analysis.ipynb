{
 "cells": [
  {
   "cell_type": "code",
   "execution_count": 1,
   "id": "4a7a3ce1",
   "metadata": {},
   "outputs": [],
   "source": [
    "import pandas as pd\n",
    "import re\n",
    "from collections import Counter\n",
    "from sklearn.feature_extraction.text import CountVectorizer"
   ]
  },
  {
   "cell_type": "code",
   "execution_count": 2,
   "id": "fd4549f4",
   "metadata": {},
   "outputs": [],
   "source": [
    "# Load cleaned dataset\n",
    "df = pd.read_csv(\"../data/processed/cleaned_tiktok_data.csv\")"
   ]
  },
  {
   "cell_type": "code",
   "execution_count": 3,
   "id": "078f8bc9",
   "metadata": {},
   "outputs": [],
   "source": [
    "# Combine text + transcript\n",
    "df[\"text\"] = df[\"text\"].fillna(\"\").astype(str)\n",
    "df[\"videotranscript\"] = df[\"videotranscript\"].fillna(\"\").astype(str)\n",
    "df[\"full_text\"] = df[\"text\"] + \" \" + df[\"videotranscript\"]\n"
   ]
  },
  {
   "cell_type": "code",
   "execution_count": 4,
   "id": "999ca678",
   "metadata": {},
   "outputs": [],
   "source": [
    "# Clean text: lowercase, remove hashtags, mentions, punctuation\n",
    "def clean_text(text):\n",
    "    text = text.lower()\n",
    "    text = re.sub(r\"#\\w+\", \"\", text)  # remove hashtags\n",
    "    text = re.sub(r\"@\\w+\", \"\", text)  # remove mentions\n",
    "    text = re.sub(r\"[^\\w\\s]\", \"\", text)  # remove punctuation\n",
    "    text = re.sub(r\"\\s+\", \" \", text).strip()  # remove extra spaces\n",
    "    return text\n",
    "\n",
    "df[\"cleaned_text\"] = df[\"full_text\"].apply(clean_text)"
   ]
  },
  {
   "cell_type": "code",
   "execution_count": 5,
   "id": "eaae0a6f",
   "metadata": {},
   "outputs": [],
   "source": [
    "# Extract keywords using CountVectorizer\n",
    "vectorizer = CountVectorizer(stop_words=\"english\", max_features=1000)\n",
    "X = vectorizer.fit_transform(df[\"cleaned_text\"])\n",
    "keywords = vectorizer.get_feature_names_out()"
   ]
  },
  {
   "cell_type": "code",
   "execution_count": 6,
   "id": "3fc65827",
   "metadata": {},
   "outputs": [],
   "source": [
    "# Total keyword frequency\n",
    "total_counts = X.sum(axis=0).A1\n",
    "keyword_freq = pd.DataFrame({\n",
    "    \"keyword\": keywords,\n",
    "    \"count\": total_counts\n",
    "}).sort_values(by=\"count\", ascending=False)"
   ]
  },
  {
   "cell_type": "code",
   "execution_count": 7,
   "id": "9b1fc882",
   "metadata": {},
   "outputs": [],
   "source": [
    "\n",
    "\n",
    "# Viral keyword frequency\n",
    "viral_df = df[df[\"is_viral\"] == True]\n",
    "viral_counts = vectorizer.transform(viral_df[\"cleaned_text\"]).sum(axis=0).A1\n",
    "viral_freq = pd.DataFrame({\n",
    "    \"keyword\": keywords,\n",
    "    \"viral_count\": viral_counts\n",
    "})"
   ]
  },
  {
   "cell_type": "code",
   "execution_count": 8,
   "id": "ceb234b5",
   "metadata": {},
   "outputs": [
    {
     "name": "stdout",
     "output_type": "stream",
     "text": [
      "✅ Keyword analysis completed and saved to insights/viral_keywords.csv\n"
     ]
    }
   ],
   "source": [
    "# Merge both counts\n",
    "keyword_stats = pd.merge(keyword_freq, viral_freq, on=\"keyword\")\n",
    "keyword_stats[\"viral_ratio\"] = keyword_stats[\"viral_count\"] / keyword_stats[\"count\"]\n",
    "keyword_stats = keyword_stats.sort_values(by=\"viral_ratio\", ascending=False)\n",
    "\n",
    "# Save insights\n",
    "keyword_stats.to_csv(\"../insights/viral_keywords.csv\", index=False)\n",
    "\n",
    "print(\"✅ Keyword analysis completed and saved to insights/viral_keywords.csv\")\n"
   ]
  }
 ],
 "metadata": {
  "kernelspec": {
   "display_name": "3.10.11",
   "language": "python",
   "name": "python3"
  },
  "language_info": {
   "codemirror_mode": {
    "name": "ipython",
    "version": 3
   },
   "file_extension": ".py",
   "mimetype": "text/x-python",
   "name": "python",
   "nbconvert_exporter": "python",
   "pygments_lexer": "ipython3",
   "version": "3.10.11"
  }
 },
 "nbformat": 4,
 "nbformat_minor": 5
}
