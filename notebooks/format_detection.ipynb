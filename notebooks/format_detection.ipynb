{
 "cells": [
  {
   "cell_type": "code",
   "execution_count": 1,
   "id": "970a75af",
   "metadata": {},
   "outputs": [],
   "source": [
    "import pandas as pd\n",
    "import re"
   ]
  },
  {
   "cell_type": "code",
   "execution_count": 2,
   "id": "12285dce",
   "metadata": {},
   "outputs": [],
   "source": [
    "# Load cleaned data\n",
    "df = pd.read_csv(\"../data/processed/cleaned_tiktok_data.csv\")"
   ]
  },
  {
   "cell_type": "code",
   "execution_count": 3,
   "id": "4b221175",
   "metadata": {},
   "outputs": [],
   "source": [
    "# Fill NaNs with empty string\n",
    "df[\"text\"] = df[\"text\"].fillna(\"\").astype(str)\n",
    "df[\"videotranscript\"] = df[\"videotranscript\"].fillna(\"\").astype(str)"
   ]
  },
  {
   "cell_type": "code",
   "execution_count": 4,
   "id": "cbd7eb36",
   "metadata": {},
   "outputs": [],
   "source": [
    "# Combine both sources into one for format detection\n",
    "df[\"combined_text\"] = df[\"text\"] + \" \" + df[\"videotranscript\"]\n",
    "\n",
    "# Define format patterns\n",
    "format_keywords = {\n",
    "    \"tutorial\": [\"how to\", \"step by step\", \"tutorial\", \"guide\", \"tips\"],\n",
    "    \"transition\": [\"transition\", \"before and after\", \"watch me\", \"from this to this\"],\n",
    "    \"voiceover\": [\"voice over\", \"narrating\", \"explaining\", \"talk over\"],\n",
    "    \"talking_head\": [\"i think\", \"i feel\", \"in my opinion\", \"let me tell you\"],\n",
    "    \"unboxing\": [\"unbox\", \"unboxing\", \"open this\", \"got this today\"],\n",
    "    \"outfit_showcase\": [\"outfit\", \"ootd\", \"get ready\", \"fit check\", \"lookbook\"],\n",
    "    \"vlog\": [\"day in the life\", \"come with me\", \"follow me\", \"my morning\", \"spend the day\"]\n",
    "}"
   ]
  },
  {
   "cell_type": "code",
   "execution_count": 5,
   "id": "fb398247",
   "metadata": {},
   "outputs": [
    {
     "name": "stdout",
     "output_type": "stream",
     "text": [
      "✅ Video formats extracted and saved to insights/formats.csv\n"
     ]
    }
   ],
   "source": [
    "# Format detection function\n",
    "def detect_format(text):\n",
    "    text = text.lower()\n",
    "    for fmt, keywords in format_keywords.items():\n",
    "        if any(re.search(rf\"\\b{re.escape(kw)}\\b\", text) for kw in keywords):\n",
    "            return fmt\n",
    "    return \"unknown\"\n",
    "\n",
    "# Apply detection\n",
    "df[\"video_format\"] = df[\"combined_text\"].apply(detect_format)\n",
    "\n",
    "# Save result\n",
    "df[[\"text\", \"videotranscript\", \"video_format\", \"country\", \"is_viral\"]].to_csv(\"../insights/formats.csv\", index=False)\n",
    "\n",
    "print(\"✅ Video formats extracted and saved to insights/formats.csv\")\n"
   ]
  },
  {
   "cell_type": "code",
   "execution_count": null,
   "id": "c52a9f7e",
   "metadata": {},
   "outputs": [],
   "source": []
  },
  {
   "cell_type": "code",
   "execution_count": null,
   "id": "2778d5f1",
   "metadata": {},
   "outputs": [],
   "source": []
  },
  {
   "cell_type": "code",
   "execution_count": null,
   "id": "ff3c93cd",
   "metadata": {},
   "outputs": [],
   "source": []
  }
 ],
 "metadata": {
  "kernelspec": {
   "display_name": "3.10.11",
   "language": "python",
   "name": "python3"
  },
  "language_info": {
   "codemirror_mode": {
    "name": "ipython",
    "version": 3
   },
   "file_extension": ".py",
   "mimetype": "text/x-python",
   "name": "python",
   "nbconvert_exporter": "python",
   "pygments_lexer": "ipython3",
   "version": "3.10.11"
  }
 },
 "nbformat": 4,
 "nbformat_minor": 5
}
