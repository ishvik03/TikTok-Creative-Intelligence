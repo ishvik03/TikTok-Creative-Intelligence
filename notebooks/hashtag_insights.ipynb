{
 "cells": [
  {
   "cell_type": "code",
   "execution_count": 1,
   "id": "f53931e0",
   "metadata": {},
   "outputs": [],
   "source": [
    "import pandas as pd\n",
    "import ast\n",
    "from collections import Counter"
   ]
  },
  {
   "cell_type": "code",
   "execution_count": 2,
   "id": "00cdd4fe",
   "metadata": {},
   "outputs": [],
   "source": [
    "# Load cleaned data\n",
    "df = pd.read_csv(\"../data/processed/cleaned_tiktok_data.csv\")"
   ]
  },
  {
   "cell_type": "code",
   "execution_count": 3,
   "id": "787a30f4",
   "metadata": {},
   "outputs": [],
   "source": [
    "# Parse 'cleaned_hashtags' from stringified list to actual list\n",
    "df[\"cleaned_hashtags\"] = df[\"cleaned_hashtags\"].apply(lambda x: ast.literal_eval(x) if pd.notna(x) else [])\n"
   ]
  },
  {
   "cell_type": "code",
   "execution_count": 4,
   "id": "cccaa6de",
   "metadata": {},
   "outputs": [],
   "source": [
    "# Explode hashtags into individual rows\n",
    "exploded = df.explode(\"cleaned_hashtags\")\n",
    "exploded = exploded.rename(columns={\"cleaned_hashtags\": \"hashtag\"})\n",
    "\n",
    "# Drop empty hashtags\n",
    "exploded = exploded[exploded[\"hashtag\"].notnull() & (exploded[\"hashtag\"] != \"\")]\n",
    "\n",
    "# Count top hashtags overall\n",
    "top_hashtags = exploded[\"hashtag\"].value_counts().reset_index()\n",
    "top_hashtags.columns = [\"hashtag\", \"count\"]"
   ]
  },
  {
   "cell_type": "code",
   "execution_count": null,
   "id": "152fee6d",
   "metadata": {},
   "outputs": [],
   "source": []
  },
  {
   "cell_type": "code",
   "execution_count": 6,
   "id": "8c546c3d",
   "metadata": {},
   "outputs": [
    {
     "name": "stdout",
     "output_type": "stream",
     "text": [
      "✅ Hashtag insights saved to:\n",
      "- insights/hashtags.csv\n",
      "- insights/hashtags_by_country.csv\n",
      "- insights/hashtags_by_viral.csv\n"
     ]
    }
   ],
   "source": [
    "# Top hashtags per country\n",
    "country_hashtags = (\n",
    "    exploded.groupby([\"country\", \"hashtag\"])\n",
    "    .size()\n",
    "    .reset_index(name=\"count\")\n",
    "    .sort_values([\"country\", \"count\"], ascending=[True, False])\n",
    ")\n",
    "\n",
    "# Hashtag counts in viral vs. non-viral\n",
    "viral_hashtags = (\n",
    "    exploded.groupby([\"is_viral\", \"hashtag\"])\n",
    "    .size()\n",
    "    .reset_index(name=\"count\")\n",
    "    .sort_values([\"is_viral\", \"count\"], ascending=[False, False])\n",
    ")\n",
    "\n",
    "# Save to CSV\n",
    "top_hashtags.to_csv(\"../insights/hashtags.csv\", index=False)\n",
    "country_hashtags.to_csv(\"../insights/hashtags_by_country.csv\", index=False)\n",
    "viral_hashtags.to_csv(\"../insights/hashtags_by_viral.csv\", index=False)\n",
    "\n",
    "print(\"✅ Hashtag insights saved to:\")\n",
    "print(\"- insights/hashtags.csv\")\n",
    "print(\"- insights/hashtags_by_country.csv\")\n",
    "print(\"- insights/hashtags_by_viral.csv\")\n"
   ]
  },
  {
   "cell_type": "code",
   "execution_count": null,
   "id": "49ec38bc",
   "metadata": {},
   "outputs": [],
   "source": []
  },
  {
   "cell_type": "code",
   "execution_count": null,
   "id": "901a4240",
   "metadata": {},
   "outputs": [],
   "source": []
  },
  {
   "cell_type": "code",
   "execution_count": null,
   "id": "15663aeb",
   "metadata": {},
   "outputs": [],
   "source": []
  }
 ],
 "metadata": {
  "kernelspec": {
   "display_name": "3.10.11",
   "language": "python",
   "name": "python3"
  },
  "language_info": {
   "codemirror_mode": {
    "name": "ipython",
    "version": 3
   },
   "file_extension": ".py",
   "mimetype": "text/x-python",
   "name": "python",
   "nbconvert_exporter": "python",
   "pygments_lexer": "ipython3",
   "version": "3.10.11"
  }
 },
 "nbformat": 4,
 "nbformat_minor": 5
}
