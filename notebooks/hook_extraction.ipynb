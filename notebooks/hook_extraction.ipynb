{
 "cells": [
  {
   "cell_type": "code",
   "execution_count": 11,
   "id": "04c1c6e4",
   "metadata": {},
   "outputs": [],
   "source": [
    "import pandas as pd\n",
    "import re\n",
    "import os\n",
    "\n"
   ]
  },
  {
   "cell_type": "code",
   "execution_count": 12,
   "id": "e59643ef",
   "metadata": {},
   "outputs": [],
   "source": [
    "# Paths\n",
    "data_path = \"../data/processed/cleaned_tiktok_data.csv\"\n",
    "output_path = \"../insights/hooks.csv\""
   ]
  },
  {
   "cell_type": "code",
   "execution_count": 13,
   "id": "fe5dde47",
   "metadata": {},
   "outputs": [],
   "source": [
    "# Load data\n",
    "df = pd.read_csv(data_path)"
   ]
  },
  {
   "cell_type": "code",
   "execution_count": 14,
   "id": "28b655ad",
   "metadata": {},
   "outputs": [
    {
     "name": "stdout",
     "output_type": "stream",
     "text": [
      "Available columns: ['videotranscript']\n"
     ]
    }
   ],
   "source": [
    "# Preview columns to choose best source\n",
    "print(\"Available columns:\", df.columns[df.columns.str.contains(\"transcript|caption|desc\", case=False)].tolist())\n"
   ]
  },
  {
   "cell_type": "code",
   "execution_count": 15,
   "id": "7fb7d75c",
   "metadata": {},
   "outputs": [
    {
     "name": "stdout",
     "output_type": "stream",
     "text": [
      "Potential text columns: ['text', 'textlanguage', 'videotranscript']\n",
      "\n",
      "Sample content from potential text columns:\n",
      "                                                  text textlanguage  \\\n",
      "81   前後2wayで楽しめるプチプラブラウス♡\\n@ClassicalElf  クラシカルエルフ ...           ja   \n",
      "165  3 business fashion hacks @MOTF  15% off DC C0D...           en   \n",
      "351  What should I name this series frennnn? This f...           en   \n",
      "119  3 Outfit Mistakes That Instantly Age you. You ...           en   \n",
      "379  Linked in LTK wearing @Revolve @Edikted @Tony ...           en   \n",
      "\n",
      "                                       videotranscript  \n",
      "81            プチプラで見つけたおしりまで隠れるテプラム全国入絵でつめてとっても可愛いこれだよ  \n",
      "165   Stop wearing your top like this. It looks bor...  \n",
      "351   I want to do a series where I show you all ho...  \n",
      "119   Three outfits mistake that instantly itch you...  \n",
      "379   I ordered these for the trip but they just ca...  \n",
      "\n",
      "✅ Using 'text' as text source.\n"
     ]
    }
   ],
   "source": [
    "# 🔍 Find potential text columns\n",
    "text_cols = [col for col in df.columns if any(k in col.lower() for k in [\"desc\", \"transcript\", \"caption\", \"text\"])]\n",
    "print(\"Potential text columns:\", text_cols)\n",
    "\n",
    "# 🔍 Preview content\n",
    "sample_texts = df[text_cols].dropna(how=\"all\").sample(5, random_state=1)\n",
    "print(\"\\nSample content from potential text columns:\")\n",
    "print(sample_texts)\n",
    "\n",
    "# ✅ Choose the column with actual text\n",
    "text_col = None\n",
    "for col in text_cols:\n",
    "    if df[col].dropna().str.len().mean() > 10:\n",
    "        text_col = col\n",
    "        print(f\"\\n✅ Using '{col}' as text source.\")\n",
    "        break\n",
    "\n",
    "# Fallback if none found\n",
    "if not text_col:\n",
    "    print(\"\\n⚠️ No valid text column found! Defaulting to 'desc'\")\n",
    "    text_col = \"desc\"\n",
    "    df[text_col] = df.get(text_col, \"\")\n"
   ]
  },
  {
   "cell_type": "code",
   "execution_count": 16,
   "id": "b50ffa99",
   "metadata": {},
   "outputs": [],
   "source": [
    "# --- Hook Extraction ---\n",
    "\n",
    "def extract_hook(text):\n",
    "    if pd.isna(text) or not isinstance(text, str):\n",
    "        return \"\"\n",
    "\n",
    "    # Use first sentence or first 12 words\n",
    "    sentence = re.split(r'[.?!\\n]', text)[0]  # first sentence\n",
    "    words = sentence.strip().split()\n",
    "    return \" \".join(words[:12])  # limit to 12 words\n",
    "\n",
    "def classify_hook(hook):\n",
    "    if \"?\" in hook or hook.lower().startswith((\"what\", \"why\", \"how\", \"did\", \"do\", \"can\", \"have\")):\n",
    "        return \"question\"\n",
    "    elif any(hook.lower().startswith(word) for word in [\"stop\", \"never\", \"you need\", \"warning\", \"don’t\"]):\n",
    "        return \"strong statement\"\n",
    "    elif hook.lower().startswith((\"storytime\", \"so this happened\", \"once\", \"i remember\")):\n",
    "        return \"story\"\n",
    "    elif len(hook.split()) < 4:\n",
    "        return \"short punch\"\n",
    "    else:\n",
    "        return \"neutral\"\n"
   ]
  },
  {
   "cell_type": "code",
   "execution_count": 17,
   "id": "cf1d0c39",
   "metadata": {},
   "outputs": [],
   "source": [
    "# Apply extraction and classification\n",
    "df[\"hook_text\"] = df[text_col].apply(extract_hook)\n",
    "df[\"hook_type\"] = df[\"hook_text\"].apply(classify_hook)"
   ]
  },
  {
   "cell_type": "code",
   "execution_count": 18,
   "id": "efeed71a",
   "metadata": {},
   "outputs": [],
   "source": [
    "# Output relevant columns\n",
    "hook_df = df[[\"hook_text\", \"hook_type\", \"country\", \"is_viral\"]].copy()"
   ]
  },
  {
   "cell_type": "code",
   "execution_count": 19,
   "id": "19de7df9",
   "metadata": {},
   "outputs": [
    {
     "name": "stdout",
     "output_type": "stream",
     "text": [
      "✅ Hooks extracted and saved to ../insights/hooks.csv\n"
     ]
    },
    {
     "data": {
      "text/html": [
       "<div>\n",
       "<style scoped>\n",
       "    .dataframe tbody tr th:only-of-type {\n",
       "        vertical-align: middle;\n",
       "    }\n",
       "\n",
       "    .dataframe tbody tr th {\n",
       "        vertical-align: top;\n",
       "    }\n",
       "\n",
       "    .dataframe thead th {\n",
       "        text-align: right;\n",
       "    }\n",
       "</style>\n",
       "<table border=\"1\" class=\"dataframe\">\n",
       "  <thead>\n",
       "    <tr style=\"text-align: right;\">\n",
       "      <th></th>\n",
       "      <th>hook_text</th>\n",
       "      <th>hook_type</th>\n",
       "      <th>country</th>\n",
       "      <th>is_viral</th>\n",
       "    </tr>\n",
       "  </thead>\n",
       "  <tbody>\n",
       "    <tr>\n",
       "      <th>0</th>\n",
       "      <td>みんなのおすすめなTシャツブランド教えて</td>\n",
       "      <td>short punch</td>\n",
       "      <td>Japan</td>\n",
       "      <td>False</td>\n",
       "    </tr>\n",
       "    <tr>\n",
       "      <th>1</th>\n",
       "      <td>夏服に迷ってる人必見個人的におすすめのTシャツ6選✨</td>\n",
       "      <td>short punch</td>\n",
       "      <td>Japan</td>\n",
       "      <td>False</td>\n",
       "    </tr>\n",
       "    <tr>\n",
       "      <th>2</th>\n",
       "      <td>とうとう無地Tの季節がやってきましたね！</td>\n",
       "      <td>short punch</td>\n",
       "      <td>Japan</td>\n",
       "      <td>False</td>\n",
       "    </tr>\n",
       "    <tr>\n",
       "      <th>3</th>\n",
       "      <td>綺麗なAラインシルエットが作れるコスパ最強デニムはここ#デニム #バギーデニム #ストリート...</td>\n",
       "      <td>short punch</td>\n",
       "      <td>Japan</td>\n",
       "      <td>False</td>\n",
       "    </tr>\n",
       "    <tr>\n",
       "      <th>4</th>\n",
       "      <td>ストリートファッション女性編</td>\n",
       "      <td>short punch</td>\n",
       "      <td>Japan</td>\n",
       "      <td>False</td>\n",
       "    </tr>\n",
       "  </tbody>\n",
       "</table>\n",
       "</div>"
      ],
      "text/plain": [
       "                                           hook_text    hook_type country  \\\n",
       "0                               みんなのおすすめなTシャツブランド教えて  short punch   Japan   \n",
       "1                         夏服に迷ってる人必見個人的におすすめのTシャツ6選✨  short punch   Japan   \n",
       "2                               とうとう無地Tの季節がやってきましたね！  short punch   Japan   \n",
       "3  綺麗なAラインシルエットが作れるコスパ最強デニムはここ#デニム #バギーデニム #ストリート...  short punch   Japan   \n",
       "4                                     ストリートファッション女性編  short punch   Japan   \n",
       "\n",
       "   is_viral  \n",
       "0     False  \n",
       "1     False  \n",
       "2     False  \n",
       "3     False  \n",
       "4     False  "
      ]
     },
     "execution_count": 19,
     "metadata": {},
     "output_type": "execute_result"
    }
   ],
   "source": [
    "# Save to CSV\n",
    "os.makedirs(\"../insights\", exist_ok=True)\n",
    "hook_df.to_csv(output_path, index=False)\n",
    "\n",
    "print(f\"✅ Hooks extracted and saved to {output_path}\")\n",
    "hook_df.head()"
   ]
  },
  {
   "cell_type": "code",
   "execution_count": 20,
   "id": "b7ea956d",
   "metadata": {},
   "outputs": [
    {
     "data": {
      "text/plain": [
       "hook_type\n",
       "neutral        233\n",
       "short punch    133\n",
       "question        23\n",
       "story            3\n",
       "Name: count, dtype: int64"
      ]
     },
     "execution_count": 20,
     "metadata": {},
     "output_type": "execute_result"
    }
   ],
   "source": [
    "df[\"hook_type\"].value_counts()"
   ]
  },
  {
   "cell_type": "code",
   "execution_count": null,
   "id": "63460b16",
   "metadata": {},
   "outputs": [],
   "source": []
  }
 ],
 "metadata": {
  "kernelspec": {
   "display_name": "3.10.11",
   "language": "python",
   "name": "python3"
  },
  "language_info": {
   "codemirror_mode": {
    "name": "ipython",
    "version": 3
   },
   "file_extension": ".py",
   "mimetype": "text/x-python",
   "name": "python",
   "nbconvert_exporter": "python",
   "pygments_lexer": "ipython3",
   "version": "3.10.11"
  }
 },
 "nbformat": 4,
 "nbformat_minor": 5
}
